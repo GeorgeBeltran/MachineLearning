{
 "cells": [
  {
   "cell_type": "code",
   "execution_count": 1,
   "metadata": {},
   "outputs": [],
   "source": [
    "import pandas as pd\n",
    "import matplotlib.pyplot as plt\n",
    "\n",
    "\n",
    "\n",
    "from sklearn.model_selection import train_test_split\n",
    "from sklearn.tree import DecisionTreeClassifier\n",
    "from sklearn.metrics import accuracy_score, roc_curve, auc\n",
    "from sklearn.utils import resample\n",
    "from sklearn.ensemble import AdaBoostClassifier, RandomForestClassifier\n",
    "from xgboost import XGBClassifier"
   ]
  },
  {
   "cell_type": "code",
   "execution_count": 2,
   "metadata": {
    "pycharm": {
     "name": "#%%\n"
    }
   },
   "outputs": [
    {
     "data": {
      "text/html": "<div>\n<style scoped>\n    .dataframe tbody tr th:only-of-type {\n        vertical-align: middle;\n    }\n\n    .dataframe tbody tr th {\n        vertical-align: top;\n    }\n\n    .dataframe thead th {\n        text-align: right;\n    }\n</style>\n<table border=\"1\" class=\"dataframe\">\n  <thead>\n    <tr style=\"text-align: right;\">\n      <th></th>\n      <th>Clump_Thickness</th>\n      <th>Uniformity_of_Cell_Size</th>\n      <th>Uniformity_of_Cell_Shape</th>\n      <th>Marginal_Adhesion</th>\n      <th>Single_Epithelial_Cell_Size</th>\n      <th>Bare_Nuclei</th>\n      <th>Bland_Chromatin</th>\n      <th>Normal_Nucleoli</th>\n      <th>Mitoses</th>\n      <th>Malignant_Cancer</th>\n    </tr>\n  </thead>\n  <tbody>\n    <tr>\n      <th>0</th>\n      <td>5</td>\n      <td>1</td>\n      <td>1</td>\n      <td>1</td>\n      <td>2</td>\n      <td>1</td>\n      <td>3</td>\n      <td>1</td>\n      <td>1</td>\n      <td>0</td>\n    </tr>\n    <tr>\n      <th>1</th>\n      <td>5</td>\n      <td>4</td>\n      <td>4</td>\n      <td>5</td>\n      <td>7</td>\n      <td>10</td>\n      <td>3</td>\n      <td>2</td>\n      <td>1</td>\n      <td>0</td>\n    </tr>\n    <tr>\n      <th>2</th>\n      <td>3</td>\n      <td>1</td>\n      <td>1</td>\n      <td>1</td>\n      <td>2</td>\n      <td>2</td>\n      <td>3</td>\n      <td>1</td>\n      <td>1</td>\n      <td>0</td>\n    </tr>\n    <tr>\n      <th>3</th>\n      <td>6</td>\n      <td>8</td>\n      <td>8</td>\n      <td>1</td>\n      <td>3</td>\n      <td>4</td>\n      <td>3</td>\n      <td>7</td>\n      <td>1</td>\n      <td>0</td>\n    </tr>\n    <tr>\n      <th>4</th>\n      <td>4</td>\n      <td>1</td>\n      <td>1</td>\n      <td>3</td>\n      <td>2</td>\n      <td>1</td>\n      <td>3</td>\n      <td>1</td>\n      <td>1</td>\n      <td>0</td>\n    </tr>\n  </tbody>\n</table>\n</div>",
      "text/plain": "   Clump_Thickness  Uniformity_of_Cell_Size  Uniformity_of_Cell_Shape  \\\n0                5                        1                         1   \n1                5                        4                         4   \n2                3                        1                         1   \n3                6                        8                         8   \n4                4                        1                         1   \n\n   Marginal_Adhesion  Single_Epithelial_Cell_Size  Bare_Nuclei  \\\n0                  1                            2            1   \n1                  5                            7           10   \n2                  1                            2            2   \n3                  1                            3            4   \n4                  3                            2            1   \n\n   Bland_Chromatin  Normal_Nucleoli  Mitoses  Malignant_Cancer  \n0                3                1        1                 0  \n1                3                2        1                 0  \n2                3                1        1                 0  \n3                3                7        1                 0  \n4                3                1        1                 0  "
     },
     "execution_count": 2,
     "metadata": {},
     "output_type": "execute_result"
    }
   ],
   "source": [
    "#PartA\n",
    "df = pd.read_csv(\"https://github.com/mpourhoma/CS4662/raw/master/Cancer.csv\")\n",
    "df.head()"
   ]
  },
  {
   "cell_type": "code",
   "execution_count": 3,
   "metadata": {
    "pycharm": {
     "name": "#%%\n"
    }
   },
   "outputs": [],
   "source": [
    "#PartB\n",
    "features = [\"Clump_Thickness\", \"Uniformity_of_Cell_Size\", \"Uniformity_of_Cell_Shape\", \n",
    "            \"Marginal_Adhesion\", \"Single_Epithelial_Cell_Size\", \"Bare_Nuclei\", \n",
    "            \"Bland_Chromatin\", \"Normal_Nucleoli\", \"Mitoses\"]\n",
    "\n",
    "X = df[features]\n",
    "y = df[\"Malignant_Cancer\"]\n",
    "X_train, X_test, y_train, y_test = train_test_split(X, y, test_size = 0.3, random_state = 2)"
   ]
  },
  {
   "cell_type": "code",
   "execution_count": 4,
   "metadata": {
    "pycharm": {
     "name": "#%%\n"
    }
   },
   "outputs": [
    {
     "name": "stdout",
     "output_type": "stream",
     "text": [
      "Accuracy: 0.8666666666666667\n"
     ]
    }
   ],
   "source": [
    "#PartC\n",
    "myDecisionTree = DecisionTreeClassifier(random_state = 2)\n",
    "myDecisionTree.fit(X_train, y_train)\n",
    "yPerdictDt = myDecisionTree.predict(X_test)\n",
    "dtScore = accuracy_score(y_test, yPerdictDt)\n",
    "print (\"Accuracy: \" + str(dtScore))\n",
    "\n",
    "yPerdictProbabilityDt = myDecisionTree.predict_proba(X_test)\n",
    "fpr, tpr, thresholds = roc_curve(y_test, yPerdictProbabilityDt[:,1], pos_label = 1)\n",
    "AUC = auc(fpr, tpr)"
   ]
  },
  {
   "cell_type": "code",
   "execution_count": 5,
   "metadata": {
    "pycharm": {
     "name": "#%%\n"
    }
   },
   "outputs": [
    {
     "name": "stdout",
     "output_type": "stream",
     "text": [
      "Accuarcy: 0.9111111111111111\n"
     ]
    }
   ],
   "source": [
    "#PartD\n",
    "training = pd.concat([X_train, y_train], axis=1)\n",
    "predictionResults = []\n",
    "\n",
    "bootstrapSize = int(0.8 * X_train['Clump_Thickness'].count())\n",
    "\n",
    "for i in range(0, 29):\n",
    "    bootstrapData = resample(training, n_samples = bootstrapSize, random_state = i, replace = True)\n",
    "    bootstrapY = bootstrapData['Malignant_Cancer']\n",
    "    bootstrapX = bootstrapData[features]\n",
    "    baseDecisionTree = DecisionTreeClassifier(random_state = 2)\n",
    "    baseDecisionTree.fit(bootstrapX,bootstrapY)\n",
    "    baseYPredict = baseDecisionTree.predict(X_test)\n",
    "    predictionResults.append(baseYPredict)\n",
    "\n",
    "predictDf = pd.DataFrame()\n",
    "def getMajority(row):\n",
    "    majority = 0\n",
    "    for j in range(29):\n",
    "        majority = majority + predictDf['Prediction_' + str(j)][row:row+1]\n",
    "    return majority\n",
    "    \n",
    "for i in range(len(predictionResults)):\n",
    "    predictDf['Prediction_' + str(i)] = predictionResults[i]\n",
    "\n",
    "rows = predictDf['Prediction_0'].count()\n",
    "column = len(predictDf.columns)\n",
    "majorityList = []\n",
    "\n",
    "for i in range(rows):\n",
    "    if int(getMajority(i)) > column/2:\n",
    "        majorityList.append(1)\n",
    "    else:\n",
    "        majorityList.append(0)\n",
    "        \n",
    "predictDf['Majority'] = majorityList\n",
    "majorityScore = accuracy_score(y_test, predictDf['Majority'])\n",
    "print(\"Accuarcy: \" +  str(majorityScore))\n",
    "\n",
    "avgPredictions = pd.Series([])\n",
    "for i in range(rows):\n",
    "    avg = getMajority(i)/45\n",
    "    avgPredictions = avgPredictions.append(avg)\n",
    "\n",
    "yPerdictProbabilityB = avgPredictions\n",
    "fpr2, tpr2, thresholds2 = roc_curve(y_test, yPerdictProbabilityB, pos_label=1)\n",
    "AUC2 = auc(fpr2, tpr2)"
   ]
  },
  {
   "cell_type": "code",
   "execution_count": 6,
   "metadata": {
    "pycharm": {
     "name": "#%%\n"
    }
   },
   "outputs": [
    {
     "name": "stdout",
     "output_type": "stream",
     "text": [
      "Accuracy: 0.9555555555555556\n",
      "AUC: 0.9653361344537815\n"
     ]
    }
   ],
   "source": [
    "#PartE\n",
    "myAdaBoost = AdaBoostClassifier(n_estimators=29, random_state=2)\n",
    "myAdaBoost.fit(X_train, y_train)\n",
    "yPredictAda = myAdaBoost.predict(X_test)\n",
    "adaScore = accuracy_score(y_test, yPredictAda)\n",
    "print(\"Accuracy: \" + str(adaScore))\n",
    "\n",
    "yPerdictProbabilityAda = myAdaBoost.predict_proba(X_test)\n",
    "fpr3, tpr3, thresholds3 = roc_curve(y_test, yPerdictProbabilityAda[:,1], pos_label=1)\n",
    "AUC3 = auc(fpr3, tpr3)\n",
    "print ('AUC: ' + str(AUC3))"
   ]
  },
  {
   "cell_type": "code",
   "execution_count": 7,
   "metadata": {
    "pycharm": {
     "name": "#%%\n"
    }
   },
   "outputs": [
    {
     "name": "stdout",
     "output_type": "stream",
     "text": [
      "Accuracy: 0.9333333333333333\n",
      "AUC: 0.963235294117647\n"
     ]
    }
   ],
   "source": [
    "#PartF\n",
    "myXGBoost = XGBClassifier(n_stimators = 29, random_state=2)\n",
    "myXGBoost.fit(X_train, y_train)\n",
    "yPredictXGB = myXGBoost.predict(X_test)\n",
    "xgbScore = accuracy_score(y_test, yPredictXGB)\n",
    "print(\"Accuracy: \" + str(xgbScore))\n",
    "\n",
    "yPredictProbabilityXGB = myXGBoost.predict_proba(X_test)\n",
    "fpr4, tpr4, thresholds4 = roc_curve(y_test, yPredictProbabilityXGB[:,1], pos_label=1)\n",
    "AUC4 = auc(fpr4, tpr4)\n",
    "print('AUC: ' + str(AUC4))"
   ]
  },
  {
   "cell_type": "code",
   "execution_count": 8,
   "metadata": {
    "pycharm": {
     "name": "#%%\n"
    }
   },
   "outputs": [
    {
     "name": "stdout",
     "output_type": "stream",
     "text": [
      "Accuracy: 0.9555555555555556\n",
      "AUC: 0.9516806722689075\n"
     ]
    }
   ],
   "source": [
    "#PartG\n",
    "myRandomForest = RandomForestClassifier(n_estimators=29, bootstrap=True, random_state=2)\n",
    "myRandomForest.fit(X_train, y_train)\n",
    "yPredictRf = myRandomForest.predict(X_test)\n",
    "rfScore = accuracy_score(y_test, yPredictRf)\n",
    "print(\"Accuracy: \" + str(rfScore))\n",
    "\n",
    "yPerdictProbabilityRf = myRandomForest.predict_proba(X_test)\n",
    "fpr5, tpr5,thresholds5 = roc_curve(y_test, yPerdictProbabilityRf[:,1], pos_label=1)\n",
    "AUC5 = auc(fpr5, tpr5)\n",
    "print('AUC: ' + str(AUC5))"
   ]
  },
  {
   "cell_type": "code",
   "execution_count": 9,
   "metadata": {
    "pycharm": {
     "name": "#%%\n"
    }
   },
   "outputs": [
    {
     "data": {
      "image/png": "[encoded data removed]",
      "text/plain": "<Figure size 432x288 with 1 Axes>"
     },
     "metadata": {
      "needs_background": "light"
     },
     "output_type": "display_data"
    }
   ],
   "source": [
    "#PartH\n",
    "\n",
    "plt.figure()\n",
    "plt.plot(fpr, tpr, color = 'green', lw = 2, label = 'Decision Tree(area = %0.2f)'%AUC)\n",
    "\n",
    "plt.plot(fpr2, tpr2, color = 'red', lw = 2, label = 'BAgging Curve (area = %0.2f)'%AUC2)\n",
    "\n",
    "plt.plot(fpr3, tpr3, color = 'blue', lw = 2, label = 'AdaBoost Curve (area = %0.2f)'%AUC3)\n",
    "\n",
    "plt.plot(fpr4, tpr4, color = 'purple', lw = 2, label = 'XGBoost Curve (area = %0.2f)'%AUC4)\n",
    "\n",
    "plt.plot(fpr5, tpr5, color = 'orange', lw = 2, label = 'Random Forest Curve (area = %0.2f)'%AUC5)\n",
    "\n",
    "plt.plot([0, 1], [0, 1], color = 'brown', lw = 1, linestyle = '--')\n",
    "\n",
    "plt.xlim([-0.005, 1.005])\n",
    "plt.ylim([0.0, 1.01])\n",
    "\n",
    "plt.xlabel('False Positive Rate')\n",
    "plt.ylabel('True Positive Rate')\n",
    "plt.title('Cancer Predictor')\n",
    "plt.legend(loc = \"lower right\")\n",
    "plt.show()"
   ]
  },
  {
   "cell_type": "code",
   "execution_count": 10,
   "metadata": {
    "pycharm": {
     "name": "#%%\n"
    }
   },
   "outputs": [
    {
     "name": "stdout",
     "output_type": "stream",
     "text": [
      "Decision Tree Score: 0.8666666666666667\n",
      "Voting Score: 0.9111111111111111\n",
      "AdaBoost Score: 0.9555555555555556\n",
      "XGBoost Score: 0.9333333333333333\n",
      "Random Forest Score: 0.9555555555555556\n"
     ]
    }
   ],
   "source": [
    "print(\"Decision Tree Score: \" + str(dtScore))\n",
    "print (\"Voting Score: \" + str(majorityScore))\n",
    "print (\"AdaBoost Score: \" + str(adaScore))\n",
    "print (\"XGBoost Score: \" + str(xgbScore))\n",
    "print (\"Random Forest Score: \" +  str(rfScore))"
   ]
  },
  {
   "cell_type": "code",
   "execution_count": 11,
   "metadata": {
    "pycharm": {
     "name": "#%%\n"
    }
   },
   "outputs": [
    {
     "name": "stdout",
     "output_type": "stream",
     "text": [
      "Decision Tree AUC: 0.8697478991596639\n",
      "Voting AUC: 0.9380252100840336\n",
      "AdaBoost AUC: 0.9653361344537815\n",
      "XGBoost AUC: 0.963235294117647\n",
      "Random Forest AUC: 0.9516806722689075\n"
     ]
    }
   ],
   "source": [
    "print (\"Decision Tree AUC: \" + str(AUC))\n",
    "print (\"Voting AUC: \" + str(AUC2))\n",
    "print (\"AdaBoost AUC: \" + str(AUC3))\n",
    "print (\"XGBoost AUC: \" + str(AUC4))\n",
    "print (\"Random Forest AUC: \" + str(AUC5))\n",
    "\n",
    "\n",
    "\n",
    "#-Which algorithm is the best w.r.t the AUC value? - AdaBoost\n",
    "#- Which algorithm is the best w.r.t the Accuracy value? - AdaBoost and RandomForest both are tied\n",
    "#- Which algorithm is the best when we want a False Positive Rate of %7? - Random Forest"
   ]
  }
 ],
 "metadata": {
  "kernelspec": {
   "name": "pycharm-d55b70dd",
   "language": "python",
   "display_name": "PyCharm (MachineLearning)"
  },
  "language_info": {
   "codemirror_mode": {
    "name": "ipython",
    "version": 2
   },
   "file_extension": ".py",
   "mimetype": "text/x-python",
   "name": "python",
   "nbconvert_exporter": "python",
   "pygments_lexer": "ipython2",
   "version": "2.7.16"
  },
  "pycharm": {
   "stem_cell": {
    "cell_type": "raw",
    "source": [],
    "metadata": {
     "collapsed": false
    }
   }
  }
 },
 "nbformat": 4,
 "nbformat_minor": 1
}