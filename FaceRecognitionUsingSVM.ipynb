{
 "cells": [
  {
   "cell_type": "code",
   "execution_count": 1,
   "metadata": {
    "collapsed": true,
    "pycharm": {
     "is_executing": false
    }
   },
   "outputs": [],
   "source": [
    "from sklearn.metrics import confusion_matrix\n",
    "from sklearn.model_selection import train_test_split\n",
    "from sklearn.metrics import accuracy_score\n",
    "from sklearn.model_selection import GridSearchCV\n",
    "from sklearn.decomposition import PCA\n",
    "from sklearn.svm import SVC\n",
    "from sklearn import preprocessing \n",
    "import matplotlib.pyplot as plt\n",
    "import pandas as pd\n",
    "import matplotlib.image as mpimg"
   ]
  },
  {
   "cell_type": "code",
   "execution_count": 2,
   "metadata": {
    "pycharm": {
     "is_executing": false,
     "name": "#%%\n"
    }
   },
   "outputs": [],
   "source": [
    "#PARTA\n",
    "images = []\n",
    "for v in range (400):\n",
    "    images.append(mpimg.imread('/Users/george/Desktop/HW3/Face Data/' + str(v) + '.jpg'))\n"
   ]
  },
  {
   "cell_type": "code",
   "execution_count": 3,
   "metadata": {
    "pycharm": {
     "is_executing": false,
     "name": "#%%\n"
    }
   },
   "outputs": [
    {
     "data": {
      "text/plain": "<matplotlib.image.AxesImage at 0x11a160510>"
     },
     "metadata": {},
     "output_type": "execute_result",
     "execution_count": 3
    },
    {
     "data": {
      "image/png": "[encoded data removed]",
      "text/plain": "<Figure size 432x288 with 1 Axes>"
     },
     "metadata": {
      "needs_background": "light"
     },
     "output_type": "display_data"
    }
   ],
   "source": [
    "%matplotlib inline\n",
    "plt.imshow(images[399], cmap=plt.cm.gray)\n",
    "\n",
    "\n",
    "\n"
   ]
  },
  {
   "cell_type": "code",
   "execution_count": 4,
   "metadata": {
    "pycharm": {
     "is_executing": false,
     "name": "#%%\n"
    }
   },
   "outputs": [],
   "source": [
    "#PARTB\n",
    "columns = []\n",
    "for z in range (0, 4096):\n",
    "    columns.append('Pixel ' + str(z))\n",
    "X = pd.DataFrame(columns=columns)\n",
    "\n"
   ]
  },
  {
   "cell_type": "code",
   "execution_count": 5,
   "metadata": {
    "pycharm": {
     "is_executing": false,
     "name": "#%%\n"
    }
   },
   "outputs": [],
   "source": [
    "for a in range(len(images)):\n",
    "    fimg = images[a].flatten()\n",
    "    X.loc[a] = fimg\n",
    "\n"
   ]
  },
  {
   "cell_type": "code",
   "execution_count": 6,
   "metadata": {
    "pycharm": {
     "is_executing": false,
     "name": "#%%\n"
    }
   },
   "outputs": [
    {
     "data": {
      "text/plain": "  Pixel 0 Pixel 1 Pixel 2 Pixel 3 Pixel 4 Pixel 5 Pixel 6 Pixel 7 Pixel 8  \\\n0     186     183     179     190     212     219     221     232     230   \n1     204     198     194     195     198     195     190     186     190   \n2      86      79      82      95     100     102     121     146     169   \n3      61      90      98     119     144     156     174     177     183   \n4      99     134     165     183     201     210     215     224     232   \n\n  Pixel 9  ... Pixel 4086 Pixel 4087 Pixel 4088 Pixel 4089 Pixel 4090  \\\n0     231  ...         56         45         47         18          0   \n1     193  ...         19          0         29         52         90   \n2     179  ...        160        167        179        169        192   \n3     195  ...        119        244        246        168        126   \n4     236  ...         83         90         94         90         70   \n\n  Pixel 4091 Pixel 4092 Pixel 4093 Pixel 4094 Pixel 4095  \n0          8         15          9          3          5  \n1        146        130        120        164        167  \n2        188        197        189        185        141  \n3        187        162        145         58         18  \n4         41         71        103         92        117  \n\n[5 rows x 4096 columns]",
      "text/html": "<div>\n<style scoped>\n    .dataframe tbody tr th:only-of-type {\n        vertical-align: middle;\n    }\n\n    .dataframe tbody tr th {\n        vertical-align: top;\n    }\n\n    .dataframe thead th {\n        text-align: right;\n    }\n</style>\n<table border=\"1\" class=\"dataframe\">\n  <thead>\n    <tr style=\"text-align: right;\">\n      <th></th>\n      <th>Pixel 0</th>\n      <th>Pixel 1</th>\n      <th>Pixel 2</th>\n      <th>Pixel 3</th>\n      <th>Pixel 4</th>\n      <th>Pixel 5</th>\n      <th>Pixel 6</th>\n      <th>Pixel 7</th>\n      <th>Pixel 8</th>\n      <th>Pixel 9</th>\n      <th>...</th>\n      <th>Pixel 4086</th>\n      <th>Pixel 4087</th>\n      <th>Pixel 4088</th>\n      <th>Pixel 4089</th>\n      <th>Pixel 4090</th>\n      <th>Pixel 4091</th>\n      <th>Pixel 4092</th>\n      <th>Pixel 4093</th>\n      <th>Pixel 4094</th>\n      <th>Pixel 4095</th>\n    </tr>\n  </thead>\n  <tbody>\n    <tr>\n      <th>0</th>\n      <td>186</td>\n      <td>183</td>\n      <td>179</td>\n      <td>190</td>\n      <td>212</td>\n      <td>219</td>\n      <td>221</td>\n      <td>232</td>\n      <td>230</td>\n      <td>231</td>\n      <td>...</td>\n      <td>56</td>\n      <td>45</td>\n      <td>47</td>\n      <td>18</td>\n      <td>0</td>\n      <td>8</td>\n      <td>15</td>\n      <td>9</td>\n      <td>3</td>\n      <td>5</td>\n    </tr>\n    <tr>\n      <th>1</th>\n      <td>204</td>\n      <td>198</td>\n      <td>194</td>\n      <td>195</td>\n      <td>198</td>\n      <td>195</td>\n      <td>190</td>\n      <td>186</td>\n      <td>190</td>\n      <td>193</td>\n      <td>...</td>\n      <td>19</td>\n      <td>0</td>\n      <td>29</td>\n      <td>52</td>\n      <td>90</td>\n      <td>146</td>\n      <td>130</td>\n      <td>120</td>\n      <td>164</td>\n      <td>167</td>\n    </tr>\n    <tr>\n      <th>2</th>\n      <td>86</td>\n      <td>79</td>\n      <td>82</td>\n      <td>95</td>\n      <td>100</td>\n      <td>102</td>\n      <td>121</td>\n      <td>146</td>\n      <td>169</td>\n      <td>179</td>\n      <td>...</td>\n      <td>160</td>\n      <td>167</td>\n      <td>179</td>\n      <td>169</td>\n      <td>192</td>\n      <td>188</td>\n      <td>197</td>\n      <td>189</td>\n      <td>185</td>\n      <td>141</td>\n    </tr>\n    <tr>\n      <th>3</th>\n      <td>61</td>\n      <td>90</td>\n      <td>98</td>\n      <td>119</td>\n      <td>144</td>\n      <td>156</td>\n      <td>174</td>\n      <td>177</td>\n      <td>183</td>\n      <td>195</td>\n      <td>...</td>\n      <td>119</td>\n      <td>244</td>\n      <td>246</td>\n      <td>168</td>\n      <td>126</td>\n      <td>187</td>\n      <td>162</td>\n      <td>145</td>\n      <td>58</td>\n      <td>18</td>\n    </tr>\n    <tr>\n      <th>4</th>\n      <td>99</td>\n      <td>134</td>\n      <td>165</td>\n      <td>183</td>\n      <td>201</td>\n      <td>210</td>\n      <td>215</td>\n      <td>224</td>\n      <td>232</td>\n      <td>236</td>\n      <td>...</td>\n      <td>83</td>\n      <td>90</td>\n      <td>94</td>\n      <td>90</td>\n      <td>70</td>\n      <td>41</td>\n      <td>71</td>\n      <td>103</td>\n      <td>92</td>\n      <td>117</td>\n    </tr>\n  </tbody>\n</table>\n<p>5 rows × 4096 columns</p>\n</div>"
     },
     "metadata": {},
     "output_type": "execute_result",
     "execution_count": 6
    }
   ],
   "source": [
    "X.head()\n",
    "\n",
    "\n"
   ]
  },
  {
   "cell_type": "code",
   "execution_count": 7,
   "metadata": {
    "pycharm": {
     "is_executing": false,
     "name": "#%%\n"
    }
   },
   "outputs": [],
   "source": [
    "labels_csv = pd.read_csv('/Users/george/Desktop/HW3/Face Data/label.csv')\n",
    "y = labels_csv['Label']"
   ]
  },
  {
   "cell_type": "code",
   "execution_count": 8,
   "metadata": {
    "pycharm": {
     "is_executing": false,
     "name": "#%%\n"
    }
   },
   "outputs": [
    {
     "data": {
      "text/plain": "0      13\n1      30\n2      34\n3      19\n4      24\n5       6\n6      15\n7      26\n8      14\n9      21\n10      3\n11     13\n12     11\n13     34\n14      1\n15      5\n16     29\n17     14\n18     20\n19     19\n20     17\n21     26\n22     12\n23     34\n24     17\n25     31\n26      7\n27      1\n28     28\n29     10\n       ..\n370    24\n371    11\n372    26\n373     7\n374    33\n375     2\n376    16\n377    33\n378    38\n379    17\n380    38\n381     3\n382    19\n383    31\n384     8\n385     7\n386     8\n387    29\n388    24\n389    27\n390    21\n391     0\n392    35\n393    19\n394    25\n395    32\n396    19\n397    11\n398     4\n399    17\nName: Label, Length: 400, dtype: int64"
     },
     "metadata": {},
     "output_type": "execute_result",
     "execution_count": 8
    }
   ],
   "source": [
    "type (y)\n",
    "y\n"
   ]
  },
  {
   "cell_type": "code",
   "execution_count": 9,
   "metadata": {
    "pycharm": {
     "is_executing": false,
     "name": "#%%\n"
    }
   },
   "outputs": [
    {
     "name": "stderr",
     "text": [
      "/Users/george/Desktop/School/Spring 2020/MachineLearning/venv/lib/python2.7/site-packages/ipykernel_launcher.py:3: DataConversionWarning: Data with input dtype object were all converted to float64 by the scale function.\n",
      "  This is separate from the ipykernel package so we can avoid doing imports until\n"
     ],
     "output_type": "stream"
    }
   ],
   "source": [
    "#PARTC\n",
    "X_scaled = preprocessing.scale(X)\n"
   ]
  },
  {
   "cell_type": "code",
   "execution_count": 10,
   "metadata": {
    "pycharm": {
     "is_executing": false,
     "name": "#%%\n"
    }
   },
   "outputs": [],
   "source": [
    "#PARTD\n",
    "X_train, X_test, y_train, y_test = train_test_split(X_scaled, y, test_size=0.25, random_state=5)"
   ]
  },
  {
   "cell_type": "code",
   "execution_count": 11,
   "metadata": {
    "pycharm": {
     "is_executing": false,
     "name": "#%%\n"
    }
   },
   "outputs": [],
   "source": [
    "#PARTE\n",
    "k = 50 # k is the number of components (new features) after dimensionality reduction\n",
    "my_pca = PCA(n_components = k)\n",
    "# X_Train is feature matrix of training set before dimensionality reduction,\n",
    "# X_Train_New is feature matrix of training set after dimensionality reduction:\n",
    "X_train_new = my_pca.fit_transform(X_train)\n",
    "X_test_new = my_pca.transform(X_test)\n"
   ]
  },
  {
   "cell_type": "code",
   "execution_count": 12,
   "metadata": {
    "pycharm": {
     "is_executing": false,
     "name": "#%%\n"
    }
   },
   "outputs": [],
   "source": [
    "#PARTF\n",
    "svc = SVC(C=1, kernel='rbf', gamma=0.0005, random_state=1)\n",
    "svc.fit(X_train_new, y_train)\n",
    "y_predict = svc.predict(X_test_new)\n",
    "\n"
   ]
  },
  {
   "cell_type": "code",
   "execution_count": 13,
   "metadata": {
    "pycharm": {
     "is_executing": false,
     "name": "#%%\n"
    }
   },
   "outputs": [
    {
     "name": "stdout",
     "text": [
      "Accuracy:\n",
      "0.91\n"
     ],
     "output_type": "stream"
    }
   ],
   "source": [
    "s = accuracy_score(y_test, y_predict)\n",
    "print('Accuracy:')\n",
    "print(s)"
   ]
  },
  {
   "cell_type": "code",
   "execution_count": 14,
   "metadata": {
    "pycharm": {
     "is_executing": false,
     "name": "#%%\n"
    }
   },
   "outputs": [
    {
     "name": "stdout",
     "text": [
      "Confusion Matrix:\n",
      "[[3 0 0 ... 0 0 0]\n",
      " [0 3 0 ... 0 0 0]\n",
      " [0 0 1 ... 0 0 0]\n",
      " ...\n",
      " [0 0 0 ... 0 0 0]\n",
      " [0 0 0 ... 0 4 0]\n",
      " [0 0 0 ... 0 0 1]]\n"
     ],
     "output_type": "stream"
    }
   ],
   "source": [
    "cm = confusion_matrix(y_test, y_predict)\n",
    "print('Confusion Matrix:')\n",
    "print(cm)\n"
   ]
  },
  {
   "cell_type": "code",
   "execution_count": 15,
   "metadata": {
    "pycharm": {
     "is_executing": false,
     "name": "#%%\n"
    }
   },
   "outputs": [
    {
     "name": "stdout",
     "text": [
      "Fitting 10 folds for each of 9 candidates, totalling 90 fits\n"
     ],
     "output_type": "stream"
    },
    {
     "name": "stderr",
     "text": [
      "[Parallel(n_jobs=1)]: Using backend SequentialBackend with 1 concurrent workers.\n",
      "[Parallel(n_jobs=1)]: Done  90 out of  90 | elapsed:    5.4s finished\n"
     ],
     "output_type": "stream"
    },
    {
     "data": {
      "text/plain": "GridSearchCV(cv=10, error_score='raise-deprecating',\n       estimator=SVC(C=1, cache_size=200, class_weight=None, coef0=0.0,\n  decision_function_shape='ovr', degree=3, gamma=0.0005, kernel='rbf',\n  max_iter=-1, probability=False, random_state=1, shrinking=True,\n  tol=0.001, verbose=False),\n       fit_params=None, iid='warn', n_jobs=None,\n       param_grid=[{'C': [0.1, 1, 10, 100, 1000.0, 5000.0, 10000.0, 50000.0, 100000.0]}],\n       pre_dispatch='2*n_jobs', refit=True, return_train_score='warn',\n       scoring='accuracy', verbose=1)"
     },
     "metadata": {},
     "output_type": "execute_result",
     "execution_count": 15
    }
   ],
   "source": [
    "#PARTG\n",
    "neuron_number = [0.1, 1, 10, 100, 1e3, 5e3, 1e4, 5e4, 1e5]\n",
    "\n",
    "param_grid = [{'C': [0.1, 1, 10, 100, 1e3, 5e3, 1e4, 5e4, 1e5]}]\n",
    "\n",
    "X_scaled_pca = my_pca.fit_transform(X_scaled)\n",
    "\n",
    "grid = GridSearchCV(svc, param_grid, cv=10, scoring='accuracy', verbose=1)\n",
    "\n",
    "grid.fit(X_scaled_pca, y)\n",
    "\n",
    "\n"
   ]
  },
  {
   "cell_type": "code",
   "execution_count": 16,
   "metadata": {
    "pycharm": {
     "is_executing": false,
     "name": "#%%\n"
    }
   },
   "outputs": [
    {
     "name": "stdout",
     "text": [
      "Accuracy:\n",
      "0.965\n",
      "C:\n",
      "{'C': 10}\n"
     ],
     "output_type": "stream"
    }
   ],
   "source": [
    "print('Accuracy:')\n",
    "print(grid.best_score_)\n",
    "print('C:')\n",
    "print(grid.best_params_)\n",
    "\n",
    "\n"
   ]
  },
  {
   "cell_type": "code",
   "execution_count": 16,
   "metadata": {
    "pycharm": {
     "is_executing": false,
     "name": "#%%"
    }
   },
   "outputs": [],
   "source": []
  }
 ],
 "metadata": {
  "kernelspec": {
   "display_name": "Python 2",
   "language": "python",
   "name": "python2"
  },
  "language_info": {
   "codemirror_mode": {
    "name": "ipython",
    "version": 2
   },
   "file_extension": ".py",
   "mimetype": "text/x-python",
   "name": "python",
   "nbconvert_exporter": "python",
   "pygments_lexer": "ipython2",
   "version": "2.7.16"
  },
  "pycharm": {
   "stem_cell": {
    "cell_type": "raw",
    "source": [],
    "metadata": {
     "collapsed": false
    }
   }
  }
 },
 "nbformat": 4,
 "nbformat_minor": 1
}