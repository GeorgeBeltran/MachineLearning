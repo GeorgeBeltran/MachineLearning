{
 "cells": [
  {
   "cell_type": "code",
   "execution_count": 1,
   "metadata": {
    "pycharm": {
     "name": "#%%\n"
    }
   },
   "outputs": [],
   "source": [
    "import array\n",
    "import os\n",
    "import pandas as pd\n",
    "from sklearn.ensemble import AdaBoostClassifier, RandomForestClassifier\n",
    "from sklearn.metrics import accuracy_score, roc_curve, auc\n",
    "from sklearn.model_selection import train_test_split\n",
    "import matplotlib.pyplot as plt\n",
    "from PIL import Image, ImageEnhance\n",
    "from sklearn.utils import resample\n",
    "from sklearn.tree import DecisionTreeClassifier\n",
    "from sklearn.preprocessing import LabelEncoder\n",
    "import warnings\n",
    "warnings.filterwarnings(\"ignore\")\n",
    "\n"
   ]
  },
  {
   "cell_type": "code",
   "execution_count": 2,
   "metadata": {
    "pycharm": {
     "name": "#%%\n"
    }
   },
   "outputs": [
    {
     "name": "stdout",
     "output_type": "stream",
     "text": [
      "(22184, 2)\n"
     ]
    },
    {
     "data": {
      "text/html": [
       "<div>\n",
       "<style scoped>\n",
       "    .dataframe tbody tr th:only-of-type {\n",
       "        vertical-align: middle;\n",
       "    }\n",
       "\n",
       "    .dataframe tbody tr th {\n",
       "        vertical-align: top;\n",
       "    }\n",
       "\n",
       "    .dataframe thead th {\n",
       "        text-align: right;\n",
       "    }\n",
       "</style>\n",
       "<table border=\"1\" class=\"dataframe\">\n",
       "  <thead>\n",
       "    <tr style=\"text-align: right;\">\n",
       "      <th></th>\n",
       "      <th>Image_Label</th>\n",
       "      <th>EncodedPixels</th>\n",
       "    </tr>\n",
       "  </thead>\n",
       "  <tbody>\n",
       "    <tr>\n",
       "      <th>0</th>\n",
       "      <td>0011165.jpg_Fish</td>\n",
       "      <td>264918 937 266318 937 267718 937 269118 937 27...</td>\n",
       "    </tr>\n",
       "    <tr>\n",
       "      <th>1</th>\n",
       "      <td>0011165.jpg_Flower</td>\n",
       "      <td>1355565 1002 1356965 1002 1358365 1002 1359765...</td>\n",
       "    </tr>\n",
       "    <tr>\n",
       "      <th>2</th>\n",
       "      <td>0011165.jpg_Gravel</td>\n",
       "      <td>NaN</td>\n",
       "    </tr>\n",
       "    <tr>\n",
       "      <th>3</th>\n",
       "      <td>0011165.jpg_Sugar</td>\n",
       "      <td>NaN</td>\n",
       "    </tr>\n",
       "    <tr>\n",
       "      <th>4</th>\n",
       "      <td>002be4f.jpg_Fish</td>\n",
       "      <td>233813 878 235213 878 236613 878 238010 881 23...</td>\n",
       "    </tr>\n",
       "  </tbody>\n",
       "</table>\n",
       "</div>"
      ],
      "text/plain": [
       "          Image_Label                                      EncodedPixels\n",
       "0    0011165.jpg_Fish  264918 937 266318 937 267718 937 269118 937 27...\n",
       "1  0011165.jpg_Flower  1355565 1002 1356965 1002 1358365 1002 1359765...\n",
       "2  0011165.jpg_Gravel                                                NaN\n",
       "3   0011165.jpg_Sugar                                                NaN\n",
       "4    002be4f.jpg_Fish  233813 878 235213 878 236613 878 238010 881 23..."
      ]
     },
     "execution_count": 2,
     "metadata": {},
     "output_type": "execute_result"
    }
   ],
   "source": [
    "#upload the train csv file (with image label and encoded pixels)\n",
    "df_train = pd.read_csv('/Users/george/Desktop/understanding_cloud_organization/train.csv')\n",
    "print(df_train.shape)\n",
    "df_train.head()"
   ]
  },
  {
   "cell_type": "markdown",
   "metadata": {},
   "source": [
    "Splitting up data to only get the label names\n"
   ]
  },
  {
   "cell_type": "code",
   "execution_count": 3,
   "metadata": {
    "pycharm": {
     "name": "#%%\n"
    }
   },
   "outputs": [
    {
     "data": {
      "text/html": [
       "<div>\n",
       "<style scoped>\n",
       "    .dataframe tbody tr th:only-of-type {\n",
       "        vertical-align: middle;\n",
       "    }\n",
       "\n",
       "    .dataframe tbody tr th {\n",
       "        vertical-align: top;\n",
       "    }\n",
       "\n",
       "    .dataframe thead th {\n",
       "        text-align: right;\n",
       "    }\n",
       "</style>\n",
       "<table border=\"1\" class=\"dataframe\">\n",
       "  <thead>\n",
       "    <tr style=\"text-align: right;\">\n",
       "      <th></th>\n",
       "      <th>Image_Label</th>\n",
       "      <th>EncodedPixels</th>\n",
       "      <th>label</th>\n",
       "      <th>image_name</th>\n",
       "      <th>mask</th>\n",
       "    </tr>\n",
       "  </thead>\n",
       "  <tbody>\n",
       "    <tr>\n",
       "      <th>0</th>\n",
       "      <td>0011165.jpg_Fish</td>\n",
       "      <td>264918 937 266318 937 267718 937 269118 937 27...</td>\n",
       "      <td>Fish</td>\n",
       "      <td>0011165.jpg</td>\n",
       "      <td>True</td>\n",
       "    </tr>\n",
       "    <tr>\n",
       "      <th>1</th>\n",
       "      <td>0011165.jpg_Flower</td>\n",
       "      <td>1355565 1002 1356965 1002 1358365 1002 1359765...</td>\n",
       "      <td>Flower</td>\n",
       "      <td>0011165.jpg</td>\n",
       "      <td>True</td>\n",
       "    </tr>\n",
       "    <tr>\n",
       "      <th>2</th>\n",
       "      <td>0011165.jpg_Gravel</td>\n",
       "      <td>NaN</td>\n",
       "      <td>Gravel</td>\n",
       "      <td>0011165.jpg</td>\n",
       "      <td>False</td>\n",
       "    </tr>\n",
       "    <tr>\n",
       "      <th>3</th>\n",
       "      <td>0011165.jpg_Sugar</td>\n",
       "      <td>NaN</td>\n",
       "      <td>Sugar</td>\n",
       "      <td>0011165.jpg</td>\n",
       "      <td>False</td>\n",
       "    </tr>\n",
       "    <tr>\n",
       "      <th>4</th>\n",
       "      <td>002be4f.jpg_Fish</td>\n",
       "      <td>233813 878 235213 878 236613 878 238010 881 23...</td>\n",
       "      <td>Fish</td>\n",
       "      <td>002be4f.jpg</td>\n",
       "      <td>True</td>\n",
       "    </tr>\n",
       "  </tbody>\n",
       "</table>\n",
       "</div>"
      ],
      "text/plain": [
       "          Image_Label                                      EncodedPixels  \\\n",
       "0    0011165.jpg_Fish  264918 937 266318 937 267718 937 269118 937 27...   \n",
       "1  0011165.jpg_Flower  1355565 1002 1356965 1002 1358365 1002 1359765...   \n",
       "2  0011165.jpg_Gravel                                                NaN   \n",
       "3   0011165.jpg_Sugar                                                NaN   \n",
       "4    002be4f.jpg_Fish  233813 878 235213 878 236613 878 238010 881 23...   \n",
       "\n",
       "    label   image_name   mask  \n",
       "0    Fish  0011165.jpg   True  \n",
       "1  Flower  0011165.jpg   True  \n",
       "2  Gravel  0011165.jpg  False  \n",
       "3   Sugar  0011165.jpg  False  \n",
       "4    Fish  002be4f.jpg   True  "
      ]
     },
     "execution_count": 3,
     "metadata": {},
     "output_type": "execute_result"
    }
   ],
   "source": [
    "#split the image label as image's name and image's label\n",
    "splitted = df_train['Image_Label'].str.split('_',expand = True)\n",
    "df_train['label'] = splitted[1]\n",
    "df_train['image_name'] = splitted[0]\n",
    "df_train['mask'] = ~df_train['EncodedPixels'].isna()\n",
    "df_train.head()\n"
   ]
  },
  {
   "cell_type": "code",
   "execution_count": 4,
   "metadata": {
    "pycharm": {
     "name": "#%%\n"
    }
   },
   "outputs": [
    {
     "data": {
      "text/plain": [
       "0          Fish\n",
       "1        Flower\n",
       "2        Gravel\n",
       "3         Sugar\n",
       "4          Fish\n",
       "          ...  \n",
       "22179     Sugar\n",
       "22180      Fish\n",
       "22181    Flower\n",
       "22182    Gravel\n",
       "22183     Sugar\n",
       "Name: label, Length: 22184, dtype: object"
      ]
     },
     "execution_count": 4,
     "metadata": {},
     "output_type": "execute_result"
    }
   ],
   "source": [
    "#replace the empty into NaN value of ENcodedPixels and label\n",
    "m = len(df_train['EncodedPixels'])\n",
    "df_train['EncodedPixels'].fillna(\"0 0\", inplace = True)\n",
    "df_train['EncodedPixels']\n",
    "\n",
    "g = len(df_train['label'])\n",
    "df_train['label'].fillna(\"0 0\", inplace = True)\n",
    "df_train['label']"
   ]
  },
  {
   "cell_type": "markdown",
   "metadata": {},
   "source": [
    "Began training the labels and EncodedPixels\n"
   ]
  },
  {
   "cell_type": "code",
   "execution_count": 125,
   "metadata": {
    "pycharm": {
     "name": "#%%\n"
    }
   },
   "outputs": [],
   "source": [
    "\n",
    "features = ['label']\n",
    "\n",
    "X = df_train[features]\n",
    "y = df_train['EncodedPixels']\n",
    "X_train, X_test, y_train, y_test = train_test_split(X, y, test_size = 0.3, random_state = 2)"
   ]
  },
  {
   "cell_type": "markdown",
   "metadata": {},
   "source": [
    "Since Decison tree only gets floats and the data is in string this has to be used"
   ]
  },
  {
   "cell_type": "code",
   "execution_count": 126,
   "metadata": {
    "pycharm": {
     "name": "#%%\n"
    }
   },
   "outputs": [
    {
     "name": "stderr",
     "output_type": "stream",
     "text": [
      "<ipython-input-126-d13843feaeb9>:3: SettingWithCopyWarning: \n",
      "A value is trying to be set on a copy of a slice from a DataFrame.\n",
      "Try using .loc[row_indexer,col_indexer] = value instead\n",
      "\n",
      "See the caveats in the documentation: https://pandas.pydata.org/pandas-docs/stable/user_guide/indexing.html#returning-a-view-versus-a-copy\n",
      "  X_test[\"label\"] = le.transform(X_test[\"label\"].astype(str))\n",
      "<ipython-input-126-d13843feaeb9>:4: SettingWithCopyWarning: \n",
      "A value is trying to be set on a copy of a slice from a DataFrame.\n",
      "Try using .loc[row_indexer,col_indexer] = value instead\n",
      "\n",
      "See the caveats in the documentation: https://pandas.pydata.org/pandas-docs/stable/user_guide/indexing.html#returning-a-view-versus-a-copy\n",
      "  X_train[\"label\"] = le.transform(X_train[\"label\"].astype(str))\n"
     ]
    }
   ],
   "source": [
    "le = LabelEncoder()\n",
    "le.fit(X_train[\"label\"].astype(str))\n",
    "X_test[\"label\"] = le.transform(X_test[\"label\"].astype(str))\n",
    "X_train[\"label\"] = le.transform(X_train[\"label\"].astype(str))"
   ]
  },
  {
   "cell_type": "markdown",
   "metadata": {
    "pycharm": {
     "is_executing": true,
     "name": "#%% md\n"
    }
   },
   "source": [
    "Decision Tree Classifier"
   ]
  },
  {
   "cell_type": "code",
   "execution_count": 127,
   "metadata": {
    "pycharm": {
     "name": "#%%\n"
    }
   },
   "outputs": [
    {
     "name": "stdout",
     "output_type": "stream",
     "text": [
      "Accuracy: 0.46829927884615385\n"
     ]
    },
    {
     "name": "stderr",
     "output_type": "stream",
     "text": [
      "/Users/george/Desktop/School/Spring 2020/MachineLearning/venv2.0/lib/python3.8/site-packages/sklearn/metrics/_ranking.py:806: UndefinedMetricWarning: No positive samples in y_true, true positive value should be meaningless\n",
      "  warnings.warn(\"No positive samples in y_true, \"\n"
     ]
    }
   ],
   "source": [
    "myDecisionTree = DecisionTreeClassifier(random_state = 2)\n",
    "myDecisionTree.fit(X_train, y_train)\n",
    "yPerdictDt = myDecisionTree.predict(X_test)\n",
    "dtScore = accuracy_score(y_test, yPerdictDt)\n",
    "print (\"Accuracy: \" + str(dtScore))\n",
    "\n",
    "yPerdictProbabilityDt = myDecisionTree.predict_proba(X_test)\n",
    "fpr, tpr, thresholds = roc_curve(y_test, yPerdictProbabilityDt[:,1], pos_label = 1)\n",
    "AUC = auc(fpr, tpr)"
   ]
  },
  {
   "cell_type": "code",
   "execution_count": null,
   "metadata": {
    "pycharm": {
     "name": "#%%\n"
    }
   },
   "outputs": [],
   "source": []
  },
  {
   "cell_type": "code",
   "execution_count": null,
   "metadata": {
    "pycharm": {
     "name": "#%%\n"
    }
   },
   "outputs": [],
   "source": [
    "#PartE\n",
    "myAdaBoost = AdaBoostClassifier(n_estimators=29, random_state=2)\n",
    "myAdaBoost.fit(X_train, y_train)\n",
    "yPredictAda = myAdaBoost.predict(X_test)\n",
    "adaScore = accuracy_score(y_test, yPredictAda)\n",
    "print(\"Accuracy: \" + str(adaScore))\n",
    "\n",
    "yPerdictProbabilityAda = myAdaBoost.predict_proba(X_test)\n",
    "fpr3, tpr3, thresholds3 = roc_curve(y_test, yPerdictProbabilityAda[:,1], pos_label=1)\n",
    "AUC3 = auc(fpr3, tpr3)\n",
    "print ('AUC: ' + str(AUC3))"
   ]
  },
  {
   "cell_type": "code",
   "execution_count": null,
   "metadata": {
    "pycharm": {
     "name": "#%%\n"
    }
   },
   "outputs": [],
   "source": [
    "#PartG\n",
    "myRandomForest = RandomForestClassifier(n_estimators=29, bootstrap=True, random_state=2)\n",
    "myRandomForest.fit(X_train, y_train)\n",
    "yPredictRf = myRandomForest.predict(X_test)\n",
    "rfScore = accuracy_score(y_test, yPredictRf)\n",
    "print(\"Accuracy: \" + str(rfScore))\n",
    "\n",
    "yPerdictProbabilityRf = myRandomForest.predict_proba(X_test)\n",
    "fpr5, tpr5,thresholds5 = roc_curve(y_test, yPerdictProbabilityRf[:,1], pos_label=1)\n",
    "AUC5 = auc(fpr5, tpr5)\n",
    "print('AUC: ' + str(AUC5))"
   ]
  },
  {
   "cell_type": "code",
   "execution_count": null,
   "metadata": {
    "pycharm": {
     "name": "#%%\n"
    }
   },
   "outputs": [],
   "source": [
    "#PartH\n",
    "\n",
    "plt.figure()\n",
    "plt.plot(fpr, tpr, color = 'green', lw = 2, label = 'Decision Tree(area = %0.2f)'%AUC)\n",
    "\n",
    "plt.plot(fpr2, tpr2, color = 'red', lw = 2, label = 'BAgging Curve (area = %0.2f)'%AUC2)\n",
    "\n",
    "plt.plot(fpr3, tpr3, color = 'blue', lw = 2, label = 'AdaBoost Curve (area = %0.2f)'%AUC3)\n",
    "\n",
    "plt.plot(fpr5, tpr5, color = 'orange', lw = 2, label = 'Random Forest Curve (area = %0.2f)'%AUC5)\n",
    "\n",
    "plt.plot([0, 1], [0, 1], color = 'brown', lw = 1, linestyle = '--')\n",
    "\n",
    "plt.xlim([-0.005, 1.005])\n",
    "plt.ylim([0.0, 1.01])\n",
    "\n",
    "plt.xlabel('False Positive Rate')\n",
    "plt.ylabel('True Positive Rate')\n",
    "plt.title('Cancer Predictor')\n",
    "plt.legend(loc = \"lower right\")\n",
    "plt.show()"
   ]
  },
  {
   "cell_type": "code",
   "execution_count": null,
   "metadata": {
    "pycharm": {
     "name": "#%%\n"
    }
   },
   "outputs": [],
   "source": [
    "print(\"Decision Tree Score: \" + str(dtScore))\n",
    "print (\"Voting Score: \" + str(majorityScore))\n",
    "print (\"AdaBoost Score: \" + str(adaScore))\n",
    "print (\"Random Forest Score: \" +  str(rfScore))"
   ]
  },
  {
   "cell_type": "code",
   "execution_count": null,
   "metadata": {
    "pycharm": {
     "name": "#%%\n"
    }
   },
   "outputs": [],
   "source": [
    "print (\"Decision Tree AUC: \" + str(AUC))\n",
    "print (\"Voting AUC: \" + str(AUC2))\n",
    "print (\"AdaBoost AUC: \" + str(AUC3))\n",
    "print (\"Random Forest AUC: \" + str(AUC5))\n",
    "\n"
   ]
  },
  {
   "cell_type": "code",
   "execution_count": null,
   "metadata": {},
   "outputs": [],
   "source": []
  }
 ],
 "metadata": {
  "kernelspec": {
   "display_name": "Python 3",
   "language": "python",
   "name": "python3"
  },
  "language_info": {
   "codemirror_mode": {
    "name": "ipython",
    "version": 3
   },
   "file_extension": ".py",
   "mimetype": "text/x-python",
   "name": "python",
   "nbconvert_exporter": "python",
   "pygments_lexer": "ipython3",
   "version": "3.8.2"
  }
 },
 "nbformat": 4,
 "nbformat_minor": 1
}